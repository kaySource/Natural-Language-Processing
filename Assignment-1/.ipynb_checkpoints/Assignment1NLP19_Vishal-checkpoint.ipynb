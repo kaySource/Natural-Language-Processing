{
 "cells": [
  {
   "cell_type": "markdown",
   "metadata": {},
   "source": [
    "# Assignment 1 on Natural Language Processing\n",
    "\n",
    "## Date : 26th July, 2019\n",
    "\n",
    "### Instructor : Prof. Sudeshna Sarkar\n",
    "\n",
    "### Teaching Assistants : Ishani Mondal, Debanjana Kar, Sukannya Purkayastha"
   ]
  },
  {
   "cell_type": "markdown",
   "metadata": {},
   "source": [
    "The central idea of this assignment is to make you familiar with programming in python and also the language modelling task of natural language processing using the python library, nltk. Please find the installation details below.\n",
    "\n"
   ]
  },
  {
   "cell_type": "markdown",
   "metadata": {},
   "source": [
    "## Installation of NLTK and Anaconda:\n",
    "\n",
    "To ensure we are all on the same page, the coding environment will be in `python3`. We suggest downloading \n",
    "Anaconda3 and creating a separate environment to do this assignment. <br> \n",
    "\n",
    "\n",
    "The link to anaconda3 for Windows and Linux is available here https://docs.anaconda.com/anaconda/install/. <br>\n",
    "The steps to install NLTK is available on the link: <br>\n",
    "\n",
    "`sudo pip3 install nltk` <br>\n",
    "`python3` <br>\n",
    "`nltk.download()` <br>\n",
    "\n",
    "To install gensim, use the following command: (detailed tutorial) <br>\n",
    "`conda install -c conda-forge gensim` <br>\n",
    "\n",
    "<br>\n",
    "\n",
    "Note : For the purpose of your convenience, we are also providing you with a demo hands-on ipython notebook explaining the basics of language modelling using nltk."
   ]
  },
  {
   "cell_type": "markdown",
   "metadata": {},
   "source": [
    "## Assignment Tasks\n",
    "\n",
    "Use the corpus given. Ignore the .concept files and use the .txt files for each disease abstract.\n",
    "\n",
    "### Task A: In this sub-task, you are expected to carry out the following tasks:\n",
    "\n",
    "**Tokenize** the corpus into sentences and words (for each of the pos and neg class). **Print the number of sentences and words.** <br>\n",
    "**Perform case-folding** on the corpus. <br>\n",
    "**Remove the stopwords** from the corpus and print the count of the rest of the non stop-words occurring in the corpus.<br>"
   ]
  },
  {
   "cell_type": "code",
   "execution_count": 1,
   "metadata": {
    "scrolled": false
   },
   "outputs": [
    {
     "name": "stdout",
     "output_type": "stream",
     "text": [
      "Number of words: 4119\n",
      "Number of sentences: 197\n",
      "Without stop words are: 2599\n"
     ]
    }
   ],
   "source": [
    "#Write the code for Task A\n",
    "import os\n",
    "import nltk\n",
    "from nltk.tokenize import RegexpTokenizer\n",
    "from nltk.corpus import stopwords \n",
    "from nltk.tokenize import word_tokenize, sent_tokenize\n",
    "STOP=set(stopwords.words('english'))\n",
    "\n",
    "files=os.listdir('NCBI_Data')\n",
    "corpus=\"\"\n",
    "sentences=[]\n",
    "for file in files:\n",
    "    if '.txt' in file:\n",
    "        with open('NCBI_Data/'+file,'r') as F:\n",
    "            corpustmp=\"\"\n",
    "            for line in F:\n",
    "                corpustmp+=line\n",
    "                corpus+=line\n",
    "        sentences.extend(sent_tokenize(corpustmp.lower()))\n",
    "\n",
    "#Case folding the corpus, making all words smaller case\n",
    "corpus=corpus.lower()\n",
    "\n",
    "#Tokenize the input corpus\n",
    "word_tokenizer = RegexpTokenizer(r'\\w+')\n",
    "word_tokens = word_tokenizer.tokenize(corpus)\n",
    "\n",
    "#Finding no. of words in corpus(Punctuations etc. not considered)\n",
    "print('Number of words:',len(word_tokens))\n",
    "\n",
    "#For finding number of sentences\n",
    "print('Number of sentences:',len(sentences))\n",
    "sentences=sorted(sentences)\n",
    "\n",
    "#Remove Stop words\n",
    "word_tokens_without_stop_words=[i for i in word_tokens if i not in STOP]\n",
    "print(\"Without stop words are:\",len(word_tokens_without_stop_words))\n"
   ]
  },
  {
   "cell_type": "markdown",
   "metadata": {},
   "source": [
    "### Task B: In this sub-task, you are expected to carry out the following tasks:\n",
    "\n",
    "1. **Create the following language models** on the training corpus: <br>\n",
    "    i.   Unigram <br>\n",
    "    ii.  Bigram <br>\n",
    "    iii. Trigram <br>\n",
    "    iv.  Fourgram <br>\n",
    "\n",
    "2. **List the top 5 bigrams, trigrams, four-grams (with and without Add-1 smoothing).**\n",
    "(Note: Please remove those which contain only articles, prepositions, determiners. For Example: “of the”, “in a”, etc)."
   ]
  },
  {
   "cell_type": "code",
   "execution_count": 2,
   "metadata": {},
   "outputs": [],
   "source": [
    "#Write the code for Task B\n",
    "\n",
    "from nltk.util import ngrams\n",
    "unigrams=[]\n",
    "bigrams=[]\n",
    "trigrams=[]\n",
    "fourgrams=[]\n",
    "\n",
    "unigrams.extend(word_tokens)\n",
    "\n",
    "for sent in sentences:\n",
    "    bigrams.extend(ngrams(RegexpTokenizer(r'\\w+').tokenize(sent),2))\n",
    "    trigrams.extend(ngrams(RegexpTokenizer(r'\\w+').tokenize(sent),3))\n",
    "    fourgrams.extend(ngrams(RegexpTokenizer(r'\\w+').tokenize(sent),4))"
   ]
  },
  {
   "cell_type": "code",
   "execution_count": 4,
   "metadata": {},
   "outputs": [
    {
     "name": "stdout",
     "output_type": "stream",
     "text": [
      "Most common unigrams: [('gene', 38), ('mutation', 35), ('mutations', 32), ('patients', 27), ('b', 20), ('hla', 20), ('found', 18), ('disease', 18), ('deficiency', 17), ('dm', 16)]\n",
      "Most common bigrams: [(('mutations', 'in'), 15), (('factor', 'b'), 9), (('patients', 'with'), 9), (('c2', 'deficiency'), 8), (('detected', 'in'), 8), (('deficiency', 'of'), 8), (('mutation', 'was'), 8), (('age', 'of'), 7), (('germline', 'mutations'), 7), (('myotonic', 'dystrophy'), 7)]\n",
      "Most common trigrams: [(('deficiency', 'of', 'the'), 6), (('mutations', 'in', 'the'), 6), (('germline', 'mutations', 'in'), 6), (('transmission', 'of', 'congenital'), 5), (('recombinant', 'fraction', 'of'), 4), (('fraction', 'of', '0'), 4), (('age', 'of', 'onset'), 4), (('the', 'rb1', 'gene'), 4), (('of', 'hex', 'a'), 4), (('paternal', 'transmission', 'of'), 4)]\n",
      "Most common fourgrams: [(('recombinant', 'fraction', 'of', '0'), 4), (('paternal', 'transmission', 'of', 'congenital'), 4), (('transmission', 'of', 'congenital', 'dm'), 4), (('patients', 'with', 'isolated', 'unilateral'), 3), (('with', 'isolated', 'unilateral', 'retinoblastoma'), 3), (('breast', 'ovarian', 'cancer', 'families'), 3), (('a', 'lod', 'score', 'of'), 2), (('at', 'a', 'maximum', 'likelihood'), 2), (('a', 'maximum', 'likelihood', 'value'), 2), (('maximum', 'likelihood', 'value', 'of'), 2)]\n"
     ]
    }
   ],
   "source": [
    "stopwords = STOP\n",
    "\n",
    "def filter(a):\n",
    "    for i in a:\n",
    "        if i not in stopwords:\n",
    "            return True\n",
    "    return False\n",
    "\n",
    "#print top 10 unigrams, bigrams after removing stopwords\n",
    "uni_processed = [p for p in unigrams if p not in stopwords]\n",
    "fdist = nltk.FreqDist(uni_processed)\n",
    "print('Most common unigrams:',fdist.most_common(10))\n",
    "\n",
    "bi_processed = [p for p in bigrams if filter(p)]\n",
    "tri_processed = [p for p in trigrams if filter(p)]\n",
    "four_processed = [p for p in fourgrams if filter(p)]\n",
    "#print(bi_processed)\n",
    "\n",
    "fdist_bi = nltk.FreqDist(bi_processed)\n",
    "fdist_tri = nltk.FreqDist(tri_processed)\n",
    "fdist_four = nltk.FreqDist(four_processed)\n",
    "print('Most common bigrams:',fdist_bi.most_common(10))\n",
    "print('Most common trigrams:',fdist_tri.most_common(10))\n",
    "print('Most common fourgrams:',fdist_four.most_common(10))\n",
    "\n",
    "#print top 10 bigrams, trigrams, fourgrams after removing stopwords"
   ]
  },
  {
   "cell_type": "markdown",
   "metadata": {},
   "source": [
    "### With Smoothing"
   ]
  },
  {
   "cell_type": "code",
   "execution_count": 99,
   "metadata": {},
   "outputs": [],
   "source": [
    "#You are to perform Add-1 smoothing here:\n",
    "Prob_unigram=dict()\n",
    "Prob_bigram=dict()\n",
    "Prob_trigram=dict()\n",
    "Prob_fourgram=dict()\n",
    "\n",
    "for gram in list(set(unigrams)):\n",
    "    Prob_unigram[gram]=(1+int(fdist[gram]))/(len(list(set(unigrams)))+len(unigrams))\n",
    "    \n",
    "for gram in list(set(bigrams)):\n",
    "    Prob_bigram[gram]=(1+int(fdist_bi[gram]))/(len(list(set(bigrams)))+len(bigrams))\n",
    "\n",
    "for gram in list(set(trigrams)):\n",
    "    Prob_trigram[gram]=(1+int(fdist_tri[gram]))/(len(list(set(trigrams)))+len(trigrams))\n",
    "\n",
    "for gram in list(set(fourgrams)):\n",
    "    Prob_fourgram[gram]=(1+int(fdist_four[gram]))/(len(list(set(fourgrams)))+len(fourgrams))\n"
   ]
  },
  {
   "cell_type": "markdown",
   "metadata": {},
   "source": [
    "### Predict the next word using statistical language modelling\n",
    "\n",
    "Using the above bigram, trigram, and fourgram models that you just experimented with, **predict the next word given the previous n(=2, 3, 4)-grams** for the sentences below."
   ]
  },
  {
   "cell_type": "code",
   "execution_count": 100,
   "metadata": {},
   "outputs": [],
   "source": [
    "str1 = 'A new tumor suppressor gene, PTEN/MMAC1, was isolated recently'\n",
    "str2 = 'The average age of disease'"
   ]
  },
  {
   "cell_type": "code",
   "execution_count": 132,
   "metadata": {},
   "outputs": [
    {
     "name": "stdout",
     "output_type": "stream",
     "text": [
      "('onset', 0.000434719605854224)\n",
      "0.000434719605854224\n"
     ]
    }
   ],
   "source": [
    "# For str1, you are to predict the next  2 possible word sequences using your trained smoothed models. The answers can be as below:()\n",
    "#     1) 'A new tumor suppressor gene, PTEN/MMAC1, was isolated recently' *genuinely*\n",
    "#     2)  'A new tumor suppressor gene, PTEN/MMAC1, was isolated recently' *yesterday*\n",
    "# For str2, you are to predict the next 2 possible word sequences using your trained smoothed models such as:\n",
    "#     (1) 'The average age of disease', *hinders*\n",
    "#     (2) 'The average age of disease', *past*\n",
    "# The above answers are not solutions but just examples to explain the task.\n",
    "def predict_next_word(sentence,grams):\n",
    "    prev=[]\n",
    "    sentence=RegexpTokenizer(r'\\w+').tokenize(sentence)\n",
    "    for i in range(grams-1):\n",
    "        prev.append(sentence[-1-i])\n",
    "    prev.reverse()\n",
    "    ans,answord=0,0\n",
    "\n",
    "    for word in list(set(unigrams)):\n",
    "        prev2=prev\n",
    "        \n",
    "        Dictionary=dict()\n",
    "        if grams==2:\n",
    "            Dictionary=Prob_bigram\n",
    "        elif grams==3:\n",
    "            Dictionary=Prob_trigram\n",
    "        else:\n",
    "            Dictionary=Prob_fourgram\n",
    "\n",
    "        if tuple(prev2+[word]) in list(Dictionary.keys()) and Dictionary[tuple(prev2+[word])]>ans:\n",
    "            ans=Dictionary[tuple(prev2+[word])]\n",
    "            answord=word\n",
    "            \n",
    "    return answord,ans\n",
    "\n",
    "print(predict_next_word(str2,2))\n",
    "print(Prob_bigram[('disease','is')])"
   ]
  },
  {
   "cell_type": "markdown",
   "metadata": {},
   "source": [
    "### Task C: In this task, you are to perform the following tasks:\n",
    "\n",
    "1. **Train word vectors** on the given corpus. In order to train the word vectors on your corpus, using the gensim module (https://radimrehurek.com/gensim/models/word2vec.html) with pre-trained Google word embeddings (GoogleNews-vectors) . For multi-word disease mentions, concatenate each word with a ‘_’.  <br>\n",
    "\n",
    "2. **Construct a t-SNE plot** of the trained word vectors of the disease mentions.\n",
    "\n",
    "3. **Repeat experiment 1. and 2.** using the following hyper-parameter settings:\n",
    "Use window size = 5, 10.<br>\n",
    "Use embedding dimension = 50, 100, 200.<br>\n"
   ]
  },
  {
   "cell_type": "code",
   "execution_count": null,
   "metadata": {},
   "outputs": [],
   "source": [
    "#Write the code for Task C\n"
   ]
  },
  {
   "cell_type": "markdown",
   "metadata": {},
   "source": [
    "### Task D: Predict the next word using neural language modelling\n",
    "\n",
    "Using LSTM Language modelling, you are expected to **train your own word vectors and predict the next word, given the context**."
   ]
  },
  {
   "cell_type": "code",
   "execution_count": null,
   "metadata": {},
   "outputs": [],
   "source": [
    "#code for Task D\n",
    "\n",
    "from numpy import array\n",
    "from keras.preprocessing.text import Tokenizer\n",
    "from keras.utils import to_categorical\n",
    "from keras.preprocessing.sequence import pad_sequences\n",
    "from keras.models import Sequential\n",
    "from keras.layers import Dense\n",
    "from keras.layers import LSTM\n",
    "from keras.layers import Embedding\n",
    "\n",
    "\n",
    "## Prepare the corpus from the .txt files and store it in a string variable i.e data_str. It should contain the \n",
    "## sentences splitted by \"\\n\".\n",
    "import os, glob\n",
    "\n",
    "def generate_data\n",
    "os.chdir('NCBI_Data')\n",
    "data=[]\n",
    "for file in glob.glob(\"*.txt\"):\n",
    "\tf=open(file)\n",
    "\tcontent=f.read()\n",
    "\tfor line in content.split(\"\\n\"):\n",
    "\t\tif(line!=\"\"):\n",
    "\t\t\tdata.append(line)\n",
    "\n",
    "#print(data)\n",
    "data_str=\"\\n\".join(data)\n",
    "print(data_str)\n",
    "\n",
    "\n",
    "# generate the sequence \n",
    "\n",
    "def generate_seq(model, tokenizer, max_length, seed_text, n_words):\n",
    "    \n",
    "\tin_text = seed_text\n",
    "        ## Your code should go here\n",
    "\treturn in_text\n",
    " \n",
    "tokenizer = Tokenizer()\n",
    "tokenizer.fit_on_texts([data_str])\n",
    "\n",
    "# Write the code for encoding text to sequences here and store in encoded\n",
    "\n",
    "\n",
    "# retrieve vocabulary size\n",
    "vocab_size = len(tokenizer.word_index) + 1\n",
    "print('Vocabulary Size: %d' % vocab_size)\n",
    "# encode 2 words -> 1 word\n",
    "sequences = list()\n",
    "for i in range(2, len(encoded)):\n",
    "\tsequence = encoded[i-2:i+1]\n",
    "\tsequences.append(sequence)\n",
    "\n",
    "\n",
    "print('Total Sequences: %d' % len(sequences))\n",
    "# pad sequences\n",
    "max_length = max([len(seq) for seq in sequences])\n",
    "sequences = pad_sequences(sequences, maxlen=max_length, padding='pre')\n",
    "print('Max Sequence Length: %d' % max_length)\n",
    "# split into input and output elements\n",
    "sequences = array(sequences)\n",
    "X, y = sequences[:,:-1],sequences[:,-1]\n",
    "y = to_categorical(y, num_classes=vocab_size)\n",
    "# define model\n",
    "model = Sequential()\n",
    "model.add(Embedding(vocab_size, 10, input_length=max_length-1))\n",
    "model.add(LSTM(50))\n",
    "model.add(Dense(vocab_size, activation='softmax'))\n",
    "print(model.summary())\n",
    "# compile network\n",
    "model.compile(loss='categorical_crossentropy', optimizer='adam', metrics=['accuracy'])\n",
    "# fit network\n",
    "model.fit(X, y, epochs=500, verbose=2)\n",
    "# evaluate model\n",
    "print(generate_seq(model, tokenizer, max_length-1, 'A new tumor suppressor gene, PTEN/MMAC1, was isolated recently', 1))\n",
    "print(generate_seq(model, tokenizer, max_length-1, 'The average age of disease', 1))"
   ]
  },
  {
   "cell_type": "code",
   "execution_count": null,
   "metadata": {},
   "outputs": [],
   "source": []
  }
 ],
 "metadata": {
  "kernelspec": {
   "display_name": "Python 3",
   "language": "python",
   "name": "python3"
  },
  "language_info": {
   "codemirror_mode": {
    "name": "ipython",
    "version": 3
   },
   "file_extension": ".py",
   "mimetype": "text/x-python",
   "name": "python",
   "nbconvert_exporter": "python",
   "pygments_lexer": "ipython3",
   "version": "3.7.1"
  }
 },
 "nbformat": 4,
 "nbformat_minor": 2
}
