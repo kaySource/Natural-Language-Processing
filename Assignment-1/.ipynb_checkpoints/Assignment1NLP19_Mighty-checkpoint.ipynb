{
 "cells": [
  {
   "cell_type": "markdown",
   "metadata": {},
   "source": [
    "# Assignment 1 on Natural Language Processing\n",
    "\n",
    "## Date : 26th July, 2019\n",
    "\n",
    "### Instructor : Prof. Sudeshna Sarkar\n",
    "\n",
    "### Teaching Assistants : Ishani Mondal, Debanjana Kar, Sukannya Purkayastha"
   ]
  },
  {
   "cell_type": "markdown",
   "metadata": {},
   "source": [
    "The central idea of this assignment is to make you familiar with programming in python and also the language modelling task of natural language processing using the python library, nltk. Please find the installation details below.\n",
    "\n"
   ]
  },
  {
   "cell_type": "markdown",
   "metadata": {},
   "source": [
    "## Installation of NLTK and Anaconda:\n",
    "\n",
    "To ensure we are all on the same page, the coding environment will be in `python3`. We suggest downloading \n",
    "Anaconda3 and creating a separate environment to do this assignment. <br> \n",
    "\n",
    "\n",
    "The link to anaconda3 for Windows and Linux is available here https://docs.anaconda.com/anaconda/install/. <br>\n",
    "The steps to install NLTK is available on the link: <br>\n",
    "\n",
    "`sudo pip3 install nltk` <br>\n",
    "`python3` <br>\n",
    "`nltk.download()` <br>\n",
    "\n",
    "To install gensim, use the following command: (detailed tutorial) <br>\n",
    "`conda install -c conda-forge gensim` <br>\n",
    "\n",
    "<br>\n",
    "\n",
    "Note : For the purpose of your convenience, we are also providing you with a demo hands-on ipython notebook explaining the basics of language modelling using nltk."
   ]
  },
  {
   "cell_type": "markdown",
   "metadata": {},
   "source": [
    "## Assignment Tasks\n",
    "\n",
    "Use the corpus given. Ignore the .concept files and use the .txt files for each disease abstract.\n",
    "\n",
    "### Task A: In this sub-task, you are expected to carry out the following tasks:\n",
    "\n",
    "**Tokenize** the corpus into sentences and words (for each of the pos and neg class). **Print the number of sentences and words.** <br>\n",
    "**Perform case-folding** on the corpus. <br>\n",
    "**Remove the stopwords** from the corpus and print the count of the rest of the non stop-words occurring in the corpus.<br>"
   ]
  },
  {
   "cell_type": "code",
   "execution_count": null,
   "metadata": {},
   "outputs": [],
   "source": [
    "#Write the code for Task A\n",
    "from nltk.tokenize import sent_tokenize, RegexpTokenizer, word_tokenize\n",
    "from nltk.corpus import stopwords\n",
    "import os\n",
    "\n",
    "stop_words = stopwords.words('english')\n",
    "file_list = os.listdir('NCBI_Data/')\n",
    "\n",
    "processed_corpus = []\n",
    "sentences = []\n",
    "\n",
    "for file in file_list:\n",
    "    \n",
    "    if '.txt' not in file:\n",
    "        continue\n",
    "    \n",
    "    f = open('NCBI_Data/'+file)\n",
    "    sentences.extend(sent_tokenize(f.read().lower()))\n",
    "\n",
    "\n",
    "no_words = 0\n",
    "for sentence in sentences:\n",
    "    tokenizer = RegexpTokenizer(r'\\w+')\n",
    "    words = tokenizer.tokenize(sentence)\n",
    "    processed_corpus.append(words)\n",
    "    no_words += len(words)\n",
    "\n",
    "print('Number of sentences : ', len(sentences))\n",
    "# print(sentences)\n",
    "print('Number of words : ', no_words)\n",
    "# print(processed_corpus)"
   ]
  },
  {
   "cell_type": "markdown",
   "metadata": {},
   "source": [
    "### Task B: In this sub-task, you are expected to carry out the following tasks:\n",
    "\n",
    "1. **Create the following language models** on the training corpus: <br>\n",
    "    i.   Unigram <br>\n",
    "    ii.  Bigram <br>\n",
    "    iii. Trigram <br>\n",
    "    iv.  Fourgram <br>\n",
    "\n",
    "2. **List the top 5 bigrams, trigrams, four-grams (with and without Add-1 smoothing).**\n",
    "(Note: Please remove those which contain only articles, prepositions, determiners. For Example: “of the”, “in a”, etc)."
   ]
  },
  {
   "cell_type": "code",
   "execution_count": 30,
   "metadata": {},
   "outputs": [
    {
     "name": "stdout",
     "output_type": "stream",
     "text": [
      "4119\n",
      "3922\n",
      "3728\n",
      "3536\n"
     ]
    }
   ],
   "source": [
    "#Write the code for Task B\n",
    "\n",
    "from nltk.util import ngrams\n",
    "unigrams=[]\n",
    "bigrams=[]\n",
    "trigrams=[]\n",
    "fourgrams=[]\n",
    "\n",
    "for content in processed_corpus:\n",
    "    unigrams.extend(content)\n",
    "    bigrams.extend(ngrams(content,2))\n",
    "    trigrams.extend(ngrams(content,3))\n",
    "    fourgrams.extend(ngrams(content,4))\n",
    "\n",
    "print(len(unigrams))\n",
    "print(len(bigrams))\n",
    "print(len(trigrams))\n",
    "print(len(fourgrams))"
   ]
  },
  {
   "cell_type": "code",
   "execution_count": 32,
   "metadata": {},
   "outputs": [
    {
     "name": "stdout",
     "output_type": "stream",
     "text": [
      "[('gene', 38), ('mutation', 35), ('mutations', 32), ('patients', 27), ('b', 20), ('hla', 20), ('disease', 18), ('found', 18), ('deficiency', 17), ('dm', 16)]\n",
      "[(('mutations', 'in'), 15), (('factor', 'b'), 9), (('patients', 'with'), 9), (('mutation', 'was'), 8), (('deficiency', 'of'), 8), (('detected', 'in'), 8), (('c2', 'deficiency'), 8), (('age', 'of'), 7), (('myotonic', 'dystrophy'), 7), (('germline', 'mutations'), 7)]\n",
      "[(('deficiency', 'of', 'the'), 6), (('germline', 'mutations', 'in'), 6), (('mutations', 'in', 'the'), 6), (('transmission', 'of', 'congenital'), 5), (('paternal', 'transmission', 'of'), 4), (('breast', 'ovarian', 'cancer'), 4), (('the', 'rb1', 'gene'), 4), (('fraction', 'of', '0'), 4), (('age', 'of', 'onset'), 4), (('component', 'of', 'complement'), 4)]\n",
      "[(('transmission', 'of', 'congenital', 'dm'), 4), (('paternal', 'transmission', 'of', 'congenital'), 4), (('recombinant', 'fraction', 'of', '0'), 4), (('with', 'isolated', 'unilateral', 'retinoblastoma'), 3), (('breast', 'ovarian', 'cancer', 'families'), 3), (('patients', 'with', 'isolated', 'unilateral'), 3), (('gene', 'mutations', 'in', 'patients'), 2), (('of', 'the', 'fifth', 'component'), 2), (('likelihood', 'value', 'of', 'the'), 2), (('dna', 'from', 'patients', 'with'), 2)]\n"
     ]
    }
   ],
   "source": [
    "import nltk\n",
    "\n",
    "#stopwords = code for downloading stop words through nltk\n",
    "stop_words = stopwords.words('english')\n",
    "\n",
    "def isNotOnlyStopWord(gram):\n",
    "    for i in gram:\n",
    "        if i not in stop_words:\n",
    "            return True\n",
    "    return False\n",
    "\n",
    "#print top 10 unigrams, bigrams after removing stopwords\n",
    "uni_processed = [p for p in unigrams if p not in stop_words]\n",
    "fdist = nltk.FreqDist(uni_processed)\n",
    "print(fdist.most_common(10))\n",
    "\n",
    "#print top 10 bigrams, trigrams, fourgrams after removing stopwords\n",
    "bi_processed = [p for p in bigrams if isNotOnlyStopWord(p)]\n",
    "fdist2 = nltk.FreqDist(bi_processed)\n",
    "print(fdist2.most_common(10))\n",
    "\n",
    "tri_processed = [p for p in trigrams if isNotOnlyStopWord(p)]\n",
    "fdist3 = nltk.FreqDist(tri_processed)\n",
    "print(fdist3.most_common(10))\n",
    "\n",
    "four_processed = [p for p in fourgrams if isNotOnlyStopWord(p)]\n",
    "fdist4 = nltk.FreqDist(four_processed)\n",
    "print(fdist4.most_common(10))"
   ]
  },
  {
   "cell_type": "markdown",
   "metadata": {},
   "source": [
    "### With Smoothing"
   ]
  },
  {
   "cell_type": "code",
   "execution_count": 1,
   "metadata": {},
   "outputs": [
    {
     "ename": "NameError",
     "evalue": "name 'fdist' is not defined",
     "output_type": "error",
     "traceback": [
      "\u001b[1;31m---------------------------------------------------------------------------\u001b[0m",
      "\u001b[1;31mNameError\u001b[0m                                 Traceback (most recent call last)",
      "\u001b[1;32m<ipython-input-1-ea152e38937b>\u001b[0m in \u001b[0;36m<module>\u001b[1;34m\u001b[0m\n\u001b[0;32m      2\u001b[0m \u001b[1;31m# Probability(unigram) = count(unigram)/Number of unique unigrams + Total number of unigrams\u001b[0m\u001b[1;33m\u001b[0m\u001b[1;33m\u001b[0m\u001b[1;33m\u001b[0m\u001b[0m\n\u001b[0;32m      3\u001b[0m \u001b[0mprob1\u001b[0m \u001b[1;33m=\u001b[0m \u001b[0mdict\u001b[0m\u001b[1;33m(\u001b[0m\u001b[1;33m)\u001b[0m\u001b[1;33m\u001b[0m\u001b[1;33m\u001b[0m\u001b[0m\n\u001b[1;32m----> 4\u001b[1;33m \u001b[0munique_unigrams\u001b[0m \u001b[1;33m=\u001b[0m \u001b[0mlen\u001b[0m\u001b[1;33m(\u001b[0m\u001b[0mfdist\u001b[0m\u001b[1;33m.\u001b[0m\u001b[0mkeys\u001b[0m\u001b[1;33m(\u001b[0m\u001b[1;33m)\u001b[0m\u001b[1;33m)\u001b[0m\u001b[1;33m\u001b[0m\u001b[1;33m\u001b[0m\u001b[0m\n\u001b[0m\u001b[0;32m      5\u001b[0m \u001b[0mtotal_unigrams\u001b[0m \u001b[1;33m=\u001b[0m \u001b[0mlen\u001b[0m\u001b[1;33m(\u001b[0m\u001b[0munigrams\u001b[0m\u001b[1;33m)\u001b[0m\u001b[1;33m\u001b[0m\u001b[1;33m\u001b[0m\u001b[0m\n\u001b[0;32m      6\u001b[0m \u001b[1;32mfor\u001b[0m \u001b[0mi\u001b[0m \u001b[1;32min\u001b[0m \u001b[0mfdist\u001b[0m\u001b[1;33m.\u001b[0m\u001b[0mkeys\u001b[0m\u001b[1;33m(\u001b[0m\u001b[1;33m)\u001b[0m\u001b[1;33m:\u001b[0m\u001b[1;33m\u001b[0m\u001b[1;33m\u001b[0m\u001b[0m\n",
      "\u001b[1;31mNameError\u001b[0m: name 'fdist' is not defined"
     ]
    }
   ],
   "source": [
    "# You are to perform Add-1 smoothing here:\n",
    "# Probability(unigram) = count(unigram)/Number of unique unigrams + Total number of unigrams\n",
    "prob1 = dict()\n",
    "unique_unigrams = len(fdist.keys())\n",
    "total_unigrams = len(unigrams)\n",
    "for i in fdist.keys():\n",
    "    prob1[i] = (fdist[i]+1)/(unique_unigrams + total_unigrams)\n",
    "\n",
    "#write similar code for bigram, trigram and fourgrams\n",
    "prob2 = dict()\n",
    "unique_bigrams = len(fdist2.keys())\n",
    "total_bigrams = len(bigrams)\n",
    "for i in fdist2.keys():\n",
    "    prob2[i] = (fdist2[i]+1)/(unique_bigrams + total_bigrams)\n",
    "    \n",
    "\n",
    "prob3 = dict()\n",
    "unique_trigrams = len(fdist3.keys())\n",
    "total_trigrams = len(trigrams)\n",
    "for i in fdist3.keys():\n",
    "    prob3[i] = (fdist3[i]+1)/(unique_trigrams + total_trigrams)\n",
    "    \n",
    "\n",
    "prob4 = dict()\n",
    "unique_fourgrams = len(fdist4.keys())\n",
    "total_fourgrams = len(fourgrams)\n",
    "for i in fdist4.keys():\n",
    "    prob4[i] = (fdist4[i]+1)/(unique_fourgrams + total_fourgrams)\n",
    "\n",
    "#Print top 10 unigram, bigram, trigram, fourgram after smoothing\n",
    "print(sorted(prob1.items(), key = lambda x : x[1], reverse=True)[:10])\n",
    "print(\"\")\n",
    "print(sorted(prob2.items(), key = lambda x : x[1], reverse=True)[:10])\n",
    "print(\"\")\n",
    "print(sorted(prob3.items(), key = lambda x : x[1], reverse=True)[:10])\n",
    "print(\"\")\n",
    "print(sorted(prob4.items(), key = lambda x : x[1], reverse=True)[:10])\n",
    "print(\"\")"
   ]
  },
  {
   "cell_type": "markdown",
   "metadata": {},
   "source": [
    "### Predict the next word using statistical language modelling\n",
    "\n",
    "Using the above bigram, trigram, and fourgram models that you just experimented with, **predict the next word given the previous n(=2, 3, 4)-grams** for the sentences below."
   ]
  },
  {
   "cell_type": "code",
   "execution_count": 61,
   "metadata": {},
   "outputs": [],
   "source": [
    "str1 = 'A new tumor suppressor gene, PTEN/MMAC1, was isolated recently'\n",
    "str2 = 'The average age of disease'"
   ]
  },
  {
   "cell_type": "code",
   "execution_count": 86,
   "metadata": {},
   "outputs": [
    {
     "name": "stdout",
     "output_type": "stream",
     "text": [
      "('is', 0.0004455004455004455)\n"
     ]
    }
   ],
   "source": [
    "# For str1, you are to predict the next  2 possible word sequences using your trained smoothed models. The answers can be as below:()\n",
    "#     1) 'A new tumor suppressor gene, PTEN/MMAC1, was isolated recently' *genuinely*\n",
    "#     2)  'A new tumor suppressor gene, PTEN/MMAC1, was isolated recently' *yesterday*\n",
    "# For str2, you are to predict the next 2 possible word sequences using your trained smoothed models such as:\n",
    "#     (1) 'The average age of disease', *hinders*\n",
    "#     (2) 'The average age of disease', *past*\n",
    "# The above answers are not solutions but just examples to explain the task.\n",
    "\n",
    "def bigramFor(words, bigram_probs):\n",
    "    next_word = \"\"\n",
    "    max_prob = 0\n",
    "    for bigram in bigram_probs.keys():\n",
    "        if bigram[0]==words[0] and bigram_probs[bigram] > max_prob:\n",
    "            next_word = bigram[1]\n",
    "            max_prob = bigram_probs[bigram]\n",
    "    return next_word, max_prob\n",
    "\n",
    "def trigramFor(words, trigram_probs):\n",
    "    next_word = \"\"\n",
    "    max_prob = 0\n",
    "    for trigram in trigram_probs.keys():\n",
    "        if trigram[0]==words[0] and trigram[1]==words[1] and trigram_probs[trigram] > max_prob:\n",
    "            next_word = trigram[2]\n",
    "            max_prob = trigram_probs[trigram]\n",
    "    return next_word, max_prob\n",
    "\n",
    "def fourgramFor(words, fourgram_probs):\n",
    "    next_word = \"\"\n",
    "    max_prob = 0\n",
    "    for fourgram in fourgram_probs.keys():\n",
    "        if fourgram[0]==words[0] and fourgram[1]==words[1] and fourgram[2]==words[2] and fourgram_probs[fourgram] > max_prob:\n",
    "            next_word = fourgram[3]\n",
    "            max_prob = fourgram_probs[fourgram]\n",
    "    return next_word, max_prob\n",
    "\n",
    "def getHighestProb(string, n):\n",
    "    words = string.split(' ')[-(n-1):]\n",
    "    max_prob = 0\n",
    "    next_word = \"\"\n",
    "    for unigram in unigrams:\n",
    "        temp = []\n",
    "        temp.append(unigram)\n",
    "        ngram = tuple(words+temp)\n",
    "        curr_prob = 0\n",
    "        if n == 2 and ngram in bigrams:\n",
    "            curr_prob = prob2[ngram]\n",
    "        elif n == 3 and ngram in trigrams:\n",
    "            curr_prob = prob3[ngram]\n",
    "        elif n == 4 and ngram in fourgrams:\n",
    "            curr_prob = prob4[ngram]\n",
    "        elif n<2 or n>4:\n",
    "            return \"Please enter n = 2, 3 or 4\"\n",
    "        \n",
    "        if curr_prob > max_prob:\n",
    "            max_prob = curr_prob\n",
    "            next_word = unigram\n",
    "    return next_word, max_prob\n",
    "\n",
    "def getNextWord(string, n):\n",
    "    words = string.split(' ')[-(n-1):]\n",
    "    if n==2:\n",
    "        return bigramFor(words, prob2)\n",
    "    elif n==3:\n",
    "        return trigramFor(words, prob3)\n",
    "    elif n==4:\n",
    "        return fourgramFor(words, prob4)\n",
    "    else:\n",
    "        return \"Please enter n = 2, 3, or 4\"\n",
    "\n",
    "print(getHighestProb(str2, 2))"
   ]
  },
  {
   "cell_type": "markdown",
   "metadata": {},
   "source": [
    "### Task C: In this task, you are to perform the following tasks:\n",
    "\n",
    "1. **Train word vectors** on the given corpus. In order to train the word vectors on your corpus, using the gensim module (https://radimrehurek.com/gensim/models/word2vec.html) with pre-trained Google word embeddings (GoogleNews-vectors) . For multi-word disease mentions, concatenate each word with a ‘_’.  <br>\n",
    "\n",
    "2. **Construct a t-SNE plot** of the trained word vectors of the disease mentions.\n",
    "\n",
    "3. **Repeat experiment 1. and 2.** using the following hyper-parameter settings:\n",
    "Use window size = 5, 10.<br>\n",
    "Use embedding dimension = 50, 100, 200.<br>\n"
   ]
  },
  {
   "cell_type": "code",
   "execution_count": null,
   "metadata": {},
   "outputs": [],
   "source": [
    "#Write the code for Task C\n"
   ]
  },
  {
   "cell_type": "markdown",
   "metadata": {},
   "source": [
    "### Task D: Predict the next word using neural language modelling\n",
    "\n",
    "Using LSTM Language modelling, you are expected to **train your own word vectors and predict the next word, given the context**."
   ]
  },
  {
   "cell_type": "code",
   "execution_count": null,
   "metadata": {},
   "outputs": [],
   "source": [
    "#code for Task D\n",
    "\n",
    "from numpy import array\n",
    "from keras.preprocessing.text import Tokenizer\n",
    "from keras.utils import to_categorical\n",
    "from keras.preprocessing.sequence import pad_sequences\n",
    "from keras.models import Sequential\n",
    "from keras.layers import Dense\n",
    "from keras.layers import LSTM\n",
    "from keras.layers import Embedding\n",
    "\n",
    "\n",
    "## Prepare the corpus from the .txt files and store it in a string variable i.e data_str. It should contain the \n",
    "## sentences splitted by \"\\n\".\n",
    "import os, glob\n",
    "\n",
    "def generate_data\n",
    "os.chdir('NCBI_Data')\n",
    "data=[]\n",
    "for file in glob.glob(\"*.txt\"):\n",
    "\tf=open(file)\n",
    "\tcontent=f.read()\n",
    "\tfor line in content.split(\"\\n\"):\n",
    "\t\tif(line!=\"\"):\n",
    "\t\t\tdata.append(line)\n",
    "\n",
    "#print(data)\n",
    "data_str=\"\\n\".join(data)\n",
    "print(data_str)\n",
    "\n",
    "\n",
    "# generate the sequence \n",
    "\n",
    "def generate_seq(model, tokenizer, max_length, seed_text, n_words):\n",
    "    \n",
    "\tin_text = seed_text\n",
    "        ## Your code should go here\n",
    "\treturn in_text\n",
    " \n",
    "tokenizer = Tokenizer()\n",
    "tokenizer.fit_on_texts([data_str])\n",
    "\n",
    "# Write the code for encoding text to sequences here and store in encoded\n",
    "\n",
    "\n",
    "# retrieve vocabulary size\n",
    "vocab_size = len(tokenizer.word_index) + 1\n",
    "print('Vocabulary Size: %d' % vocab_size)\n",
    "# encode 2 words -> 1 word\n",
    "sequences = list()\n",
    "for i in range(2, len(encoded)):\n",
    "\tsequence = encoded[i-2:i+1]\n",
    "\tsequences.append(sequence)\n",
    "\n",
    "\n",
    "print('Total Sequences: %d' % len(sequences))\n",
    "# pad sequences\n",
    "max_length = max([len(seq) for seq in sequences])\n",
    "sequences = pad_sequences(sequences, maxlen=max_length, padding='pre')\n",
    "print('Max Sequence Length: %d' % max_length)\n",
    "# split into input and output elements\n",
    "sequences = array(sequences)\n",
    "X, y = sequences[:,:-1],sequences[:,-1]\n",
    "y = to_categorical(y, num_classes=vocab_size)\n",
    "# define model\n",
    "model = Sequential()\n",
    "model.add(Embedding(vocab_size, 10, input_length=max_length-1))\n",
    "model.add(LSTM(50))\n",
    "model.add(Dense(vocab_size, activation='softmax'))\n",
    "print(model.summary())\n",
    "# compile network\n",
    "model.compile(loss='categorical_crossentropy', optimizer='adam', metrics=['accuracy'])\n",
    "# fit network\n",
    "model.fit(X, y, epochs=500, verbose=2)\n",
    "# evaluate model\n",
    "print(generate_seq(model, tokenizer, max_length-1, 'A new tumor suppressor gene, PTEN/MMAC1, was isolated recently', 1))\n",
    "print(generate_seq(model, tokenizer, max_length-1, 'The average age of disease', 1))"
   ]
  },
  {
   "cell_type": "code",
   "execution_count": null,
   "metadata": {},
   "outputs": [],
   "source": []
  }
 ],
 "metadata": {
  "kernelspec": {
   "display_name": "Python 3",
   "language": "python",
   "name": "python3"
  },
  "language_info": {
   "codemirror_mode": {
    "name": "ipython",
    "version": 3
   },
   "file_extension": ".py",
   "mimetype": "text/x-python",
   "name": "python",
   "nbconvert_exporter": "python",
   "pygments_lexer": "ipython3",
   "version": "3.7.1"
  }
 },
 "nbformat": 4,
 "nbformat_minor": 2
}
